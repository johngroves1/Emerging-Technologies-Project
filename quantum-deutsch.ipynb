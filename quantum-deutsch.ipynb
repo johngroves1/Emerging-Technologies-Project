{
 "cells": [
  {
   "cell_type": "markdown",
   "id": "1431382b-12e2-4dd2-b40b-adde66ebce94",
   "metadata": {},
   "source": [
    "# Quantum Computing\n",
    "\n",
    "***"
   ]
  },
  {
   "cell_type": "code",
   "execution_count": 1,
   "id": "4d4123c3-aee4-4cb1-a580-62c74345bef3",
   "metadata": {},
   "outputs": [],
   "source": [
    "import qiskit"
   ]
  }
 ],
 "metadata": {
  "kernelspec": {
   "display_name": "Python 3 (ipykernel)",
   "language": "python",
   "name": "python3"
  },
  "language_info": {
   "codemirror_mode": {
    "name": "ipython",
    "version": 3
   },
   "file_extension": ".py",
   "mimetype": "text/x-python",
   "name": "python",
   "nbconvert_exporter": "python",
   "pygments_lexer": "ipython3",
   "version": "3.9.7"
  }
 },
 "nbformat": 4,
 "nbformat_minor": 5
}
