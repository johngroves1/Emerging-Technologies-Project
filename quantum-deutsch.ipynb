{
 "cells": [
  {
   "cell_type": "markdown",
   "id": "1431382b-12e2-4dd2-b40b-adde66ebce94",
   "metadata": {},
   "source": [
    "<img src=\"./Images/quantum.jpg\" width=\"1000\" height=\"1000\" class=\"center\">\n"
   ]
  },
  {
   "cell_type": "markdown",
   "id": "f97a0f4a-1948-4934-ac74-174b2010e241",
   "metadata": {},
   "source": [
    "# Quantum Computing\n",
    "\n",
    "***\n",
    "\n",
    "## What is Quantum Computing?\n",
    "\n",
    "\n",
    "## How does a Quantum Computer work?\n",
    "\n",
    "## Comparison of classical computers and quantum computers"
   ]
  },
  {
   "cell_type": "markdown",
   "id": "46289d7d-69fb-4ea6-9972-36859ed8cb1c",
   "metadata": {},
   "source": [
    "# Deutsch's Algorithm\n",
    "***\n",
    "\n",
    "## Deutschs Algorithm explained\n"
   ]
  },
  {
   "cell_type": "code",
   "execution_count": 1,
   "id": "40c1d1f8-8c9f-4d6f-99a2-29e1a73dfc95",
   "metadata": {},
   "outputs": [],
   "source": [
    "# Qiskit itself and aer simulator\n",
    "import qiskit\n",
    "import qiskit.providers.aer as aer"
   ]
  },
  {
   "cell_type": "code",
   "execution_count": 2,
   "id": "86e44c1c-c782-48fa-b1fd-1d196dd22fe4",
   "metadata": {},
   "outputs": [],
   "source": [
    "# Diagrams\n",
    "import matplotlib.pyplot as plt\n",
    "plt.style.use('ggplot')"
   ]
  },
  {
   "cell_type": "markdown",
   "id": "09981b2e-661b-4495-ad6e-4dfddbaa21bc",
   "metadata": {},
   "source": [
    "## Constant Zero Function"
   ]
  },
  {
   "cell_type": "code",
   "execution_count": 3,
   "id": "5fe0a26b-a1dc-44d6-9f90-a730a7095cba",
   "metadata": {},
   "outputs": [],
   "source": [
    "# Create a quantum circuit.\n",
    "circuit = qiskit.QuantumCircuit(2, 1)"
   ]
  },
  {
   "cell_type": "code",
   "execution_count": 4,
   "id": "93687fe0-a304-42f7-b307-8e6d98b5aeaf",
   "metadata": {},
   "outputs": [
    {
     "data": {
      "text/plain": [
       "<qiskit.circuit.instructionset.InstructionSet at 0x7f2e993f43c0>"
      ]
     },
     "execution_count": 4,
     "metadata": {},
     "output_type": "execute_result"
    }
   ],
   "source": [
    "# Initialise the first qubit to |0>.\n",
    "circuit.initialize([1, 0], 0)"
   ]
  },
  {
   "cell_type": "code",
   "execution_count": 5,
   "id": "1185b5eb-e3ef-4277-9c7e-6af1f702223a",
   "metadata": {},
   "outputs": [
    {
     "data": {
      "text/plain": [
       "<qiskit.circuit.instructionset.InstructionSet at 0x7f2e99221040>"
      ]
     },
     "execution_count": 5,
     "metadata": {},
     "output_type": "execute_result"
    }
   ],
   "source": [
    "# Initialise the second qubit to |1>.\n",
    "circuit.initialize([0, 1], 1)"
   ]
  },
  {
   "cell_type": "code",
   "execution_count": 6,
   "id": "3bc2a38a-7dff-4b7d-92f6-f8a329651ae4",
   "metadata": {},
   "outputs": [
    {
     "data": {
      "text/plain": [
       "<qiskit.circuit.instructionset.InstructionSet at 0x7f2e991b9100>"
      ]
     },
     "execution_count": 6,
     "metadata": {},
     "output_type": "execute_result"
    }
   ],
   "source": [
    "# Apply a Hadamard gate to first qubit.\n",
    "circuit.h(0)"
   ]
  },
  {
   "cell_type": "code",
   "execution_count": 7,
   "id": "b867e858-c177-4ccd-b854-d83d01db29c5",
   "metadata": {},
   "outputs": [
    {
     "data": {
      "text/plain": [
       "<qiskit.circuit.instructionset.InstructionSet at 0x7f2e991c1d00>"
      ]
     },
     "execution_count": 7,
     "metadata": {},
     "output_type": "execute_result"
    }
   ],
   "source": [
    "# Apply a Hadamard gate to second qubit.\n",
    "circuit.h(1)"
   ]
  },
  {
   "cell_type": "code",
   "execution_count": 8,
   "id": "af652586-a715-452c-8feb-50efaf25255d",
   "metadata": {},
   "outputs": [
    {
     "data": {
      "text/plain": [
       "<qiskit.circuit.instructionset.InstructionSet at 0x7f2e992c4dc0>"
      ]
     },
     "execution_count": 8,
     "metadata": {},
     "output_type": "execute_result"
    }
   ],
   "source": [
    "# Identity gate.\n",
    "circuit.i(1)"
   ]
  },
  {
   "cell_type": "code",
   "execution_count": 9,
   "id": "ddd4c3a1-03d3-4f4e-8bc8-81788263d4e3",
   "metadata": {},
   "outputs": [
    {
     "data": {
      "text/plain": [
       "<qiskit.circuit.instructionset.InstructionSet at 0x7f2e991e0900>"
      ]
     },
     "execution_count": 9,
     "metadata": {},
     "output_type": "execute_result"
    }
   ],
   "source": [
    "# Apply another Hadamard gate to the first qubit.\n",
    "circuit.h(0)"
   ]
  },
  {
   "cell_type": "code",
   "execution_count": 10,
   "id": "dc4d6dfd-668b-445b-a86f-52a4c926f6f4",
   "metadata": {},
   "outputs": [
    {
     "data": {
      "text/plain": [
       "<qiskit.circuit.instructionset.InstructionSet at 0x7f2e991e0f00>"
      ]
     },
     "execution_count": 10,
     "metadata": {},
     "output_type": "execute_result"
    }
   ],
   "source": [
    "# Measure the first qubit.\n",
    "circuit.measure(0, 0)"
   ]
  },
  {
   "cell_type": "code",
   "execution_count": 11,
   "id": "50a1efc4-668b-4289-b780-48a0fdfc1b05",
   "metadata": {},
   "outputs": [
    {
     "data": {
      "image/png": "[encoded data removed]",
      "text/plain": [
       "<Figure size 589.054x368.424 with 1 Axes>"
      ]
     },
     "execution_count": 11,
     "metadata": {},
     "output_type": "execute_result"
    }
   ],
   "source": [
    "# Draw the circuit.\n",
    "circuit.draw(output='mpl', scale=1.8)"
   ]
  },
  {
   "cell_type": "code",
   "execution_count": 12,
   "id": "e560fe16-a670-4d4b-8600-06a3279d883e",
   "metadata": {},
   "outputs": [],
   "source": [
    "# Create a simulation instance.\n",
    "simulator = aer.QasmSimulator()"
   ]
  },
  {
   "cell_type": "code",
   "execution_count": 13,
   "id": "b815f851-57e2-4b5a-97e0-9bcf5c643b83",
   "metadata": {},
   "outputs": [],
   "source": [
    "# Compile the circuit in the simluator.\n",
    "compcircuit = qiskit.transpile(circuit, simulator)"
   ]
  },
  {
   "cell_type": "code",
   "execution_count": 14,
   "id": "7fbb3661-7cb7-4f9d-bfdc-280c40e1bc42",
   "metadata": {},
   "outputs": [],
   "source": [
    "# Simulate the circuit 1000 times.\n",
    "job = simulator.run(compcircuit, shots=1000)"
   ]
  },
  {
   "cell_type": "code",
   "execution_count": 15,
   "id": "fb2811e1-d0a0-41c7-b80d-7858b9a75471",
   "metadata": {},
   "outputs": [],
   "source": [
    "# Get the results.\n",
    "results = job.result()"
   ]
  },
  {
   "cell_type": "code",
   "execution_count": 16,
   "id": "ee5ae78e-433c-417d-99a8-7d668a6e971a",
   "metadata": {},
   "outputs": [
    {
     "data": {
      "text/plain": [
       "{'0': 1000}"
      ]
     },
     "execution_count": 16,
     "metadata": {},
     "output_type": "execute_result"
    }
   ],
   "source": [
    "# Show the result counts.\n",
    "counts = results.get_counts()\n",
    "counts"
   ]
  },
  {
   "cell_type": "code",
   "execution_count": 17,
   "id": "e52a931a-61cb-469e-8bf2-dcb8ba78983b",
   "metadata": {},
   "outputs": [
    {
     "data": {
      "image/png": "[encoded data removed]",
      "text/plain": [
       "<Figure size 72x288 with 1 Axes>"
      ]
     },
     "execution_count": 17,
     "metadata": {},
     "output_type": "execute_result"
    }
   ],
   "source": [
    "# Display histogram\n",
    "qiskit.visualization.plot_histogram(counts, figsize=(1, 4))"
   ]
  },
  {
   "cell_type": "markdown",
   "id": "af3c9207-d220-466a-9bde-3551b7ba9f99",
   "metadata": {},
   "source": [
    "## Constant One Function\n",
    "***"
   ]
  },
  {
   "cell_type": "code",
   "execution_count": 18,
   "id": "b936084f-072e-4ac0-9c28-70069c780217",
   "metadata": {},
   "outputs": [],
   "source": [
    "# Create a quantum circuit.\n",
    "circuit = qiskit.QuantumCircuit(2, 1)"
   ]
  },
  {
   "cell_type": "code",
   "execution_count": 19,
   "id": "ea6e794b-f6a8-435e-b161-2d627c5d5142",
   "metadata": {},
   "outputs": [
    {
     "data": {
      "text/plain": [
       "<qiskit.circuit.instructionset.InstructionSet at 0x7f2e9948a840>"
      ]
     },
     "execution_count": 19,
     "metadata": {},
     "output_type": "execute_result"
    }
   ],
   "source": [
    "# Initialise the first qubit to |0>.\n",
    "circuit.initialize([1, 0], 0)"
   ]
  },
  {
   "cell_type": "code",
   "execution_count": 20,
   "id": "985089f5-c556-49cf-a59c-6ba266d1f945",
   "metadata": {},
   "outputs": [
    {
     "data": {
      "text/plain": [
       "<qiskit.circuit.instructionset.InstructionSet at 0x7f2e99ee5f40>"
      ]
     },
     "execution_count": 20,
     "metadata": {},
     "output_type": "execute_result"
    }
   ],
   "source": [
    "# Initialise the second qubit to |1>.\n",
    "circuit.initialize([0, 1], 1)"
   ]
  },
  {
   "cell_type": "code",
   "execution_count": 21,
   "id": "208d0f49-eeb6-4cf3-b44f-f984bc0c668f",
   "metadata": {},
   "outputs": [
    {
     "data": {
      "text/plain": [
       "<qiskit.circuit.instructionset.InstructionSet at 0x7f2e98081080>"
      ]
     },
     "execution_count": 21,
     "metadata": {},
     "output_type": "execute_result"
    }
   ],
   "source": [
    "# Apply a Hadamard gate to each qubit.\n",
    "circuit.h((0, 1))"
   ]
  },
  {
   "cell_type": "code",
   "execution_count": 22,
   "id": "e865dae5-d4ca-404f-a040-f9d67838b5b4",
   "metadata": {},
   "outputs": [
    {
     "data": {
      "text/plain": [
       "<qiskit.circuit.instructionset.InstructionSet at 0x7f2f342088c0>"
      ]
     },
     "execution_count": 22,
     "metadata": {},
     "output_type": "execute_result"
    }
   ],
   "source": [
    "# X gate.\n",
    "circuit.x(1)"
   ]
  },
  {
   "cell_type": "code",
   "execution_count": 23,
   "id": "4a397b54-c05a-49b7-8326-7ef1a5d2794c",
   "metadata": {},
   "outputs": [
    {
     "data": {
      "text/plain": [
       "<qiskit.circuit.instructionset.InstructionSet at 0x7f2e9785a400>"
      ]
     },
     "execution_count": 23,
     "metadata": {},
     "output_type": "execute_result"
    }
   ],
   "source": [
    "# Apply another Hadamard gate to the first qubit.\n",
    "circuit.h(0)"
   ]
  },
  {
   "cell_type": "code",
   "execution_count": 24,
   "id": "6ada10f0-a9d3-40d4-b6e1-5ddf8adf6215",
   "metadata": {},
   "outputs": [
    {
     "data": {
      "text/plain": [
       "<qiskit.circuit.instructionset.InstructionSet at 0x7f2e9920b400>"
      ]
     },
     "execution_count": 24,
     "metadata": {},
     "output_type": "execute_result"
    }
   ],
   "source": [
    "# Measure the first qubit.\n",
    "circuit.measure(0, 0)"
   ]
  },
  {
   "cell_type": "code",
   "execution_count": 25,
   "id": "18446c8a-db34-4994-a895-cb5e4a58883d",
   "metadata": {},
   "outputs": [
    {
     "data": {
      "image/png": "[encoded data removed]",
      "text/plain": [
       "<Figure size 589.054x368.424 with 1 Axes>"
      ]
     },
     "execution_count": 25,
     "metadata": {},
     "output_type": "execute_result"
    }
   ],
   "source": [
    "# Draw the circuit.\n",
    "circuit.draw(output='mpl', scale=1.8)"
   ]
  },
  {
   "cell_type": "code",
   "execution_count": 26,
   "id": "f3d108cd-4adb-42e0-88ef-6ea581df13c1",
   "metadata": {},
   "outputs": [],
   "source": [
    "# Create a simulation instance.\n",
    "simulator = aer.QasmSimulator()"
   ]
  },
  {
   "cell_type": "code",
   "execution_count": 27,
   "id": "42425813-dfb7-4f19-a0e4-1b21f555c8a9",
   "metadata": {},
   "outputs": [],
   "source": [
    "# Compile the circuit in the simluator.\n",
    "compcircuit = qiskit.transpile(circuit, simulator)"
   ]
  },
  {
   "cell_type": "code",
   "execution_count": 28,
   "id": "ea3b5841-ffc3-40cd-b6f0-3b2a0cc3dd62",
   "metadata": {},
   "outputs": [],
   "source": [
    "# Compile the circuit in the simluator.\n",
    "compcircuit = qiskit.transpile(circuit, simulator)"
   ]
  },
  {
   "cell_type": "code",
   "execution_count": 29,
   "id": "f8f37ccf-102e-439d-90a9-e5daadfdec72",
   "metadata": {},
   "outputs": [],
   "source": [
    "#Get the results.\n",
    "results = job.result()"
   ]
  },
  {
   "cell_type": "code",
   "execution_count": 30,
   "id": "f019d3d8-1c2f-4be4-a2dc-1b023358c01b",
   "metadata": {},
   "outputs": [],
   "source": [
    "# Show the result counts.\n",
    "counts = results.get_counts()"
   ]
  },
  {
   "cell_type": "code",
   "execution_count": 31,
   "id": "7f053064-1cab-402a-8423-e3e6375b76ba",
   "metadata": {},
   "outputs": [
    {
     "data": {
      "image/png": "[encoded data removed]",
      "text/plain": [
       "<Figure size 72x288 with 1 Axes>"
      ]
     },
     "execution_count": 31,
     "metadata": {},
     "output_type": "execute_result"
    }
   ],
   "source": [
    "# Display histogram\n",
    "qiskit.visualization.plot_histogram(counts, figsize=(1, 4))"
   ]
  },
  {
   "cell_type": "code",
   "execution_count": null,
   "id": "8f7f76e9-8262-4ada-9ab8-54c67f74b79b",
   "metadata": {},
   "outputs": [],
   "source": []
  }
 ],
 "metadata": {
  "kernelspec": {
   "display_name": "Python 3 (ipykernel)",
   "language": "python",
   "name": "python3"
  },
  "language_info": {
   "codemirror_mode": {
    "name": "ipython",
    "version": 3
   },
   "file_extension": ".py",
   "mimetype": "text/x-python",
   "name": "python",
   "nbconvert_exporter": "python",
   "pygments_lexer": "ipython3",
   "version": "3.9.7"
  }
 },
 "nbformat": 4,
 "nbformat_minor": 5
}
